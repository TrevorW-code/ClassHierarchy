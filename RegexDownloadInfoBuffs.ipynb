{
 "cells": [
  {
   "cell_type": "markdown",
   "id": "8e974403",
   "metadata": {},
   "source": [
    "## Getting the Different Classes"
   ]
  },
  {
   "cell_type": "markdown",
   "id": "8d3b1b46",
   "metadata": {},
   "source": [
    "In order to get the classes that I need for the tidy tree hierchy, I need to make some data that will work for the datatype. I think the best thing to do is to use Regex and make either a csv or something else that I can use for making this."
   ]
  },
  {
   "cell_type": "markdown",
   "id": "63afdd1e",
   "metadata": {},
   "source": [
    "[Here is a link to the page](https://observablehq.com/d/a7c24e48df1d6e01) that is about tidy trees in D3.js. Since it is in javascript, this might be a little hard for me to figure out initially."
   ]
  },
  {
   "cell_type": "markdown",
   "id": "56c088cf",
   "metadata": {},
   "source": [
    "[Here is the class page](https://catalog.colorado.edu/undergraduate/colleges-schools/media-communication-information/programs-study/information-science/#coursestextcontainer) for the BS Major"
   ]
  },
  {
   "cell_type": "markdown",
   "id": "0e6d6796",
   "metadata": {},
   "source": [
    "[Tooltips collapseble tree](http://bl.ocks.org/anotherjavadude/2952964)"
   ]
  },
  {
   "cell_type": "code",
   "execution_count": 6,
   "id": "5c062dbb",
   "metadata": {},
   "outputs": [],
   "source": [
    "import json\n",
    "import requests\n",
    "from bs4 import BeautifulSoup\n",
    "import re\n",
    "import pprint as pprint"
   ]
  },
  {
   "cell_type": "code",
   "execution_count": 31,
   "id": "db06976c",
   "metadata": {},
   "outputs": [],
   "source": [
    "URL='https://catalog.colorado.edu/undergraduate/colleges-schools/media-communication-information/programs-study/information-science/#coursestextcontainer'\n",
    "page= requests.get(URL).text"
   ]
  },
  {
   "cell_type": "code",
   "execution_count": 136,
   "id": "3f284599",
   "metadata": {},
   "outputs": [
    {
     "name": "stdout",
     "output_type": "stream",
     "text": [
      "5\n",
      "<p class=\"courseblockextra noindent\"><strong>Grading Basis: </strong>Letter Grade<br/></p>\n"
     ]
    }
   ],
   "source": [
    "# class titles\n",
    "soup = BeautifulSoup(page, 'lxml')\n",
    "full_course_names = []\n",
    "for course in soup.find_all(\"div\", class_=\"courseblock\"):\n",
    "    print(len(course.contents))\n",
    "    print(course.contents[3])\n",
    "    break"
   ]
  },
  {
   "cell_type": "code",
   "execution_count": 117,
   "id": "3b8ed496",
   "metadata": {},
   "outputs": [
    {
     "name": "stdout",
     "output_type": "stream",
     "text": [
      "INFO 1101  (3) Computation in Society\n"
     ]
    }
   ],
   "source": [
    "# class titles\n",
    "soup = BeautifulSoup(page, 'lxml')\n",
    "full_course_names = []\n",
    "for course in soup.find_all(\"div\", class_=\"courseblock\"):\n",
    "    name = course.strong.contents[0]\n",
    "    full_course_names.append(name)\n",
    "print(full_course_names[0])"
   ]
  },
  {
   "cell_type": "code",
   "execution_count": 116,
   "id": "740c2943",
   "metadata": {},
   "outputs": [
    {
     "name": "stdout",
     "output_type": "stream",
     "text": [
      "\n",
      "Introduces students to modern information and communication technology, the basic principles of software and programming, the fundamental role of algorithms in modern society, computational reasoning, the major organizations in the information sector and fundamental interactions between humans and information technology. Appropriate for students with limited prior experience with computing. Fulfills the CMCI computing requirement.\n"
     ]
    }
   ],
   "source": [
    "# class descriptions\n",
    "soup = BeautifulSoup(page, 'lxml')\n",
    "full_course_names = []\n",
    "for course in soup.find_all(\"p\", class_=\"courseblockdesc noindent\"):\n",
    "    print(course.contents[0])\n",
    "    break"
   ]
  },
  {
   "cell_type": "code",
   "execution_count": 118,
   "id": "8881b15e",
   "metadata": {},
   "outputs": [],
   "source": [
    "# # course_list = []\n",
    "# # course_list = {}\n",
    "# soup = BeautifulSoup(page.text)\n",
    "# for course in soup.find_all(\"div\", class_=\"courseblock\"):\n",
    "# #     course_list[course.text[5:9]] = course\n",
    "#     course_soup = BeautifulSoup(str(course))\n",
    "#     course_soup_str = str(course_soup.find_all(\"strong\"))\n",
    "# #     print(course_soup_str)\n",
    "# #     print(course.text[5:9])\n",
    "# #     print(str(course_soup.find_all(\"strong\"))) \n",
    "#     number = re.search('(?<=INFO\\s).[0-9]+',course_soup_str)\n",
    "#     class_name = re.search('(?<=\\).).*(?=<s)',course_soup_str)\n",
    "# #     slash_strong = \n",
    "#     print(course_soup_str[number.start():number.end()])\n",
    "#     print(course_soup_str[class_name.start():class_name.end()])\n",
    "# #     print(str(course_soup.find_all(\"strong\"))[9:40])\n",
    "# #     course_list.append(course)"
   ]
  },
  {
   "cell_type": "code",
   "execution_count": 119,
   "id": "c3308cde",
   "metadata": {},
   "outputs": [],
   "source": [
    "# disallowed_characters = \"[</>]\"\n",
    "\n",
    "# for character in disallowed_characters:\n",
    "#     username = username.replace(character, \"\")"
   ]
  },
  {
   "cell_type": "code",
   "execution_count": 432,
   "id": "166e1c0c",
   "metadata": {},
   "outputs": [],
   "source": [
    "# test_str = '<html><body><p class=\"courseblockextra noindent\"><strong>Grading Basis: </strong>Letter Grade<br/></p></body></html>'"
   ]
  },
  {
   "cell_type": "code",
   "execution_count": 17,
   "id": "2ea88aee",
   "metadata": {},
   "outputs": [],
   "source": [
    "# page = requests.get(URL)\n",
    "# print(len(re.findall('class=\"courseblock\"',page.text)))\n"
   ]
  }
 ],
 "metadata": {
  "kernelspec": {
   "display_name": "Python 3",
   "language": "python",
   "name": "python3"
  },
  "language_info": {
   "codemirror_mode": {
    "name": "ipython",
    "version": 3
   },
   "file_extension": ".py",
   "mimetype": "text/x-python",
   "name": "python",
   "nbconvert_exporter": "python",
   "pygments_lexer": "ipython3",
   "version": "3.8.11"
  }
 },
 "nbformat": 4,
 "nbformat_minor": 5
}
