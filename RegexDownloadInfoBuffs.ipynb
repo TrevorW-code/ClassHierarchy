{
 "cells": [
  {
   "cell_type": "markdown",
   "id": "8e974403",
   "metadata": {},
   "source": [
    "## Getting the Different Classes"
   ]
  },
  {
   "cell_type": "markdown",
   "id": "8d3b1b46",
   "metadata": {},
   "source": [
    "In order to get the classes that I need for the tidy tree hierchy, I need to make some data that will work for the datatype. I think the best thing to do is to use Regex and make either a csv or something else that I can use for making this."
   ]
  },
  {
   "cell_type": "markdown",
   "id": "63afdd1e",
   "metadata": {},
   "source": [
    "[Here is a link to the page](https://observablehq.com/d/a7c24e48df1d6e01) that is about tidy trees in D3.js. Since it is in javascript, this might be a little hard for me to figure out initially."
   ]
  },
  {
   "cell_type": "markdown",
   "id": "56c088cf",
   "metadata": {},
   "source": [
    "[Here is the class page](https://catalog.colorado.edu/undergraduate/colleges-schools/media-communication-information/programs-study/information-science/#coursestextcontainer) for the BS Major"
   ]
  },
  {
   "cell_type": "markdown",
   "id": "0e6d6796",
   "metadata": {},
   "source": [
    "[Tooltips collapseble tree](http://bl.ocks.org/anotherjavadude/2952964)"
   ]
  },
  {
   "cell_type": "code",
   "execution_count": 1,
   "id": "5c062dbb",
   "metadata": {},
   "outputs": [],
   "source": [
    "import json\n",
    "import requests\n",
    "from bs4 import BeautifulSoup\n",
    "import re\n",
    "import pprint as pprint"
   ]
  },
  {
   "cell_type": "code",
   "execution_count": 2,
   "id": "db06976c",
   "metadata": {},
   "outputs": [],
   "source": [
    "URL='https://catalog.colorado.edu/undergraduate/colleges-schools/media-communication-information/programs-study/information-science/#coursestextcontainer'\n",
    "page= requests.get(URL).text"
   ]
  },
  {
   "cell_type": "code",
   "execution_count": 21,
   "id": "3f284599",
   "metadata": {},
   "outputs": [
    {
     "name": "stdout",
     "output_type": "stream",
     "text": [
      "5\n",
      "<p class=\"courseblockextra noindent\"><strong>Grading Basis: </strong>Letter Grade<br/></p>\n"
     ]
    }
   ],
   "source": [
    "# testing\n",
    "soup = BeautifulSoup(page, 'lxml')\n",
    "full_course_names = []\n",
    "for course in soup.find_all(\"div\", class_=\"courseblock\"):\n",
    "    print(len(course.contents))\n",
    "    print(course.contents[3])\n",
    "    break"
   ]
  },
  {
   "cell_type": "code",
   "execution_count": 22,
   "id": "3b8ed496",
   "metadata": {},
   "outputs": [
    {
     "name": "stdout",
     "output_type": "stream",
     "text": [
      "INFO 1111  (4) Introduction to Information Science: Understanding the World Through Data\n"
     ]
    }
   ],
   "source": [
    "# class titles\n",
    "soup = BeautifulSoup(page, 'lxml')\n",
    "full_course_names = []\n",
    "for course in soup.find_all(\"div\", class_=\"courseblock\"):\n",
    "    name = course.strong.contents[0]\n",
    "    full_course_names.append(name)\n",
    "print(full_course_names[1])"
   ]
  },
  {
   "cell_type": "code",
   "execution_count": 34,
   "id": "740c2943",
   "metadata": {},
   "outputs": [
    {
     "name": "stdout",
     "output_type": "stream",
     "text": [
      "Provides a hands-on survey of key concepts and theories in Information Science, including the nature of information, everyday experience of data, technologies that generate data, and how data are conveyed and represented. Students will critically examine texts, systems, and interpretations of data from multidisciplinary perspectives. Through design explorations, activities, and group projects, students will develop facility representing and transforming information.\n"
     ]
    }
   ],
   "source": [
    "# class descriptions\n",
    "soup = BeautifulSoup(page, 'lxml')\n",
    "full_course_descrip = []\n",
    "for course in soup.find_all(\"p\", class_=\"courseblockdesc noindent\"):\n",
    "    descrip = course.contents[0]\n",
    "    full_course_descrip.append(descrip)\n",
    "print(full_course_descrip[1][1:])"
   ]
  },
  {
   "cell_type": "code",
   "execution_count": 18,
   "id": "179ddef9",
   "metadata": {},
   "outputs": [
    {
     "data": {
      "text/plain": [
       "37"
      ]
     },
     "execution_count": 18,
     "metadata": {},
     "output_type": "execute_result"
    }
   ],
   "source": [
    "len(full_course_names)"
   ]
  },
  {
   "cell_type": "code",
   "execution_count": 19,
   "id": "b9047a0e",
   "metadata": {},
   "outputs": [
    {
     "data": {
      "text/plain": [
       "37"
      ]
     },
     "execution_count": 19,
     "metadata": {},
     "output_type": "execute_result"
    }
   ],
   "source": [
    "len(full_course_descrip)"
   ]
  },
  {
   "cell_type": "code",
   "execution_count": 30,
   "id": "2f7d0cca",
   "metadata": {},
   "outputs": [
    {
     "data": {
      "text/plain": [
       "'Provides a hands-on survey of key concepts and theories in Information Science, including the nature of information, everyday experience of data, technologies that generate data, and how data are conveyed and represented. Students will critically examine texts, systems, and interpretations of data from multidisciplinary perspectives. Through design explorations, activities, and group projects, students will develop facility representing and transforming information.'"
      ]
     },
     "execution_count": 30,
     "metadata": {},
     "output_type": "execute_result"
    }
   ],
   "source": [
    "full_course_descrip[1][1:]"
   ]
  },
  {
   "cell_type": "code",
   "execution_count": 31,
   "id": "95eff778",
   "metadata": {},
   "outputs": [],
   "source": [
    "test_dict = {}\n",
    "for i in range(0,len(full_course_descrip)):\n",
    "    test_dict[full_course_names[i]] = full_course_descrip[i][1:]"
   ]
  },
  {
   "cell_type": "code",
   "execution_count": 33,
   "id": "ce27e715",
   "metadata": {},
   "outputs": [
    {
     "data": {
      "text/plain": [
       "37"
      ]
     },
     "execution_count": 33,
     "metadata": {},
     "output_type": "execute_result"
    }
   ],
   "source": [
    "len(test_dict)"
   ]
  },
  {
   "cell_type": "code",
   "execution_count": null,
   "id": "894ad794",
   "metadata": {},
   "outputs": [],
   "source": []
  }
 ],
 "metadata": {
  "kernelspec": {
   "display_name": "Python 3 (ipykernel)",
   "language": "python",
   "name": "python3"
  },
  "language_info": {
   "codemirror_mode": {
    "name": "ipython",
    "version": 3
   },
   "file_extension": ".py",
   "mimetype": "text/x-python",
   "name": "python",
   "nbconvert_exporter": "python",
   "pygments_lexer": "ipython3",
   "version": "3.8.11"
  }
 },
 "nbformat": 4,
 "nbformat_minor": 5
}
